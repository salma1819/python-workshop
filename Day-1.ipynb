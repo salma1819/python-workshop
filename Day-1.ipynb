{
 "cells": [
  {
   "cell_type": "code",
   "execution_count": 1,
   "metadata": {},
   "outputs": [
    {
     "name": "stdout",
     "output_type": "stream",
     "text": [
      "Enter a value: 10\n",
      "Enter b value: 40\n",
      "The addition of 10 and 40 is 50\n"
     ]
    }
   ],
   "source": [
    "a=int(input(\"Enter a value: \"))\n",
    "b=int(input(\"Enter b value: \"))\n",
    "print(\"The addition of {} and {} is\".format(a,b),a+b)"
   ]
  },
  {
   "cell_type": "code",
   "execution_count": 2,
   "metadata": {},
   "outputs": [
    {
     "name": "stdout",
     "output_type": "stream",
     "text": [
      "Enter a value: 10\n",
      "Enter b value: 40\n",
      "The subtraction of 10 and 40 is -30\n"
     ]
    }
   ],
   "source": [
    "a=int(input(\"Enter a value: \"))\n",
    "b=int(input(\"Enter b value: \"))\n",
    "print(\"The subtraction of {} and {} is\".format(a,b),a-b)"
   ]
  },
  {
   "cell_type": "code",
   "execution_count": 3,
   "metadata": {},
   "outputs": [
    {
     "name": "stdout",
     "output_type": "stream",
     "text": [
      "Enter a value: 10\n",
      "Enter b value: 20\n",
      "The multiplication of 10 and 20 is 200\n"
     ]
    }
   ],
   "source": [
    "a=int(input(\"Enter a value: \"))\n",
    "b=int(input(\"Enter b value: \"))\n",
    "print(\"The multiplication of {} and {} is\".format(a,b),a*b)"
   ]
  },
  {
   "cell_type": "code",
   "execution_count": 4,
   "metadata": {},
   "outputs": [
    {
     "name": "stdout",
     "output_type": "stream",
     "text": [
      "Enter a value: 10\n",
      "Enter b value: 20\n",
      "The division of 10 and 20 is 0.5\n"
     ]
    }
   ],
   "source": [
    "a=int(input(\"Enter a value: \"))\n",
    "b=int(input(\"Enter b value: \"))\n",
    "print(\"The division of {} and {} is\".format(a,b),a/b)"
   ]
  },
  {
   "cell_type": "code",
   "execution_count": 1,
   "metadata": {},
   "outputs": [
    {
     "name": "stdout",
     "output_type": "stream",
     "text": [
      "Enter a value: 2\n",
      "Enter b value: 2\n",
      "The exponentation of 2 and 2 is 4\n"
     ]
    }
   ],
   "source": [
    "a=int(input(\"Enter a value: \"))\n",
    "b=int(input(\"Enter b value: \"))\n",
    "print(\"The exponentation of {} and {} is\".format(a,b),a**b)"
   ]
  },
  {
   "cell_type": "code",
   "execution_count": 2,
   "metadata": {},
   "outputs": [
    {
     "name": "stdout",
     "output_type": "stream",
     "text": [
      "enter a value10\n",
      "enter b value20\n",
      "addition of 10 + 20 = 30\n"
     ]
    }
   ],
   "source": [
    "a=int(input('enter a value'))\n",
    "b=int(input('enter b value'))\n",
    "print('addition of',a,'+',b,'=',a+b)"
   ]
  },
  {
   "cell_type": "code",
   "execution_count": 3,
   "metadata": {},
   "outputs": [
    {
     "name": "stdout",
     "output_type": "stream",
     "text": [
      "enter a value10\n",
      "enter b value15\n",
      "addition of 10 + 15 =25\n"
     ]
    }
   ],
   "source": [
    "a=int(input('enter a value'))\n",
    "b=int(input('enter b value'))\n",
    "print('addition of %d + %d =%d'%(a,b,a+b))"
   ]
  },
  {
   "cell_type": "code",
   "execution_count": 5,
   "metadata": {},
   "outputs": [
    {
     "name": "stdout",
     "output_type": "stream",
     "text": [
      "enter a value2\n",
      "enter b value4\n",
      "multiplication of 2*4=8\n"
     ]
    }
   ],
   "source": [
    "a=int(input('enter a value'))\n",
    "b=int(input('enter b value'))\n",
    "print('multiplication of {}*{}={}'.format(a,b,a*b))"
   ]
  },
  {
   "cell_type": "code",
   "execution_count": 6,
   "metadata": {},
   "outputs": [
    {
     "name": "stdout",
     "output_type": "stream",
     "text": [
      "True\n"
     ]
    }
   ],
   "source": [
    "print(10>5)"
   ]
  },
  {
   "cell_type": "code",
   "execution_count": 11,
   "metadata": {
    "scrolled": true
   },
   "outputs": [
    {
     "name": "stdout",
     "output_type": "stream",
     "text": [
      "greaterthan True\n",
      "lessthan False\n",
      "greaterthan or equalsto True\n",
      "lessthan or equalsto False\n",
      "not equalsto True\n",
      "equals to True\n"
     ]
    }
   ],
   "source": [
    "print('greaterthan',10>5)\n",
    "print('lessthan',100<50)\n",
    "print('greaterthan or equalsto',200>=199)\n",
    "print('lessthan or equalsto',199<=100)\n",
    "print('not equalsto',200!=199)\n",
    "print('equals to',200==200)"
   ]
  },
  {
   "cell_type": "code",
   "execution_count": 18,
   "metadata": {},
   "outputs": [
    {
     "name": "stdout",
     "output_type": "stream",
     "text": [
      "final result is 10.0\n"
     ]
    }
   ],
   "source": [
    "a=10\n",
    "a+=90\n",
    "a-=50\n",
    "a*=2\n",
    "a/=5\n",
    "a//=2\n",
    "print('final result is',a)"
   ]
  },
  {
   "cell_type": "code",
   "execution_count": 20,
   "metadata": {},
   "outputs": [
    {
     "name": "stdout",
     "output_type": "stream",
     "text": [
      "True\n",
      "False\n",
      "False\n",
      "False\n"
     ]
    }
   ],
   "source": [
    "print(True and True) #(0,0---0,1---1,0---1,1)\n",
    "print(False and False)\n",
    "print(True and False)\n",
    "print(False and True)"
   ]
  },
  {
   "cell_type": "code",
   "execution_count": 21,
   "metadata": {},
   "outputs": [
    {
     "name": "stdout",
     "output_type": "stream",
     "text": [
      "True\n",
      "False\n",
      "True\n",
      "True\n"
     ]
    }
   ],
   "source": [
    "print(True or True) \n",
    "print(False or False)\n",
    "print(True or False)\n",
    "print(False or True)"
   ]
  },
  {
   "cell_type": "code",
   "execution_count": 22,
   "metadata": {},
   "outputs": [
    {
     "name": "stdout",
     "output_type": "stream",
     "text": [
      "False\n",
      "True\n",
      "True\n",
      "True\n"
     ]
    }
   ],
   "source": [
    "print(not(True and True))\n",
    "print(not(False and False))\n",
    "print(not(True and False))\n",
    "print(not(False and True))"
   ]
  },
  {
   "cell_type": "code",
   "execution_count": 24,
   "metadata": {},
   "outputs": [
    {
     "name": "stdout",
     "output_type": "stream",
     "text": [
      "False\n",
      "True\n",
      "False\n",
      "False\n"
     ]
    }
   ],
   "source": [
    "print(not(True or True))\n",
    "print(not(False or False))\n",
    "print(not(True or False))\n",
    "print(not(False or True))\n"
   ]
  },
  {
   "cell_type": "code",
   "execution_count": 28,
   "metadata": {},
   "outputs": [
    {
     "name": "stdout",
     "output_type": "stream",
     "text": [
      "True\n",
      "False\n",
      "True\n"
     ]
    }
   ],
   "source": [
    "s=\"Welcome to python workshop\"\n",
    "print('to'in s)\n",
    "print('too' in s)\n",
    "print('x'not in s)"
   ]
  },
  {
   "cell_type": "code",
   "execution_count": 31,
   "metadata": {},
   "outputs": [
    {
     "name": "stdout",
     "output_type": "stream",
     "text": [
      "True\n",
      "False\n"
     ]
    }
   ],
   "source": [
    "x='hello'\n",
    "y='hello'\n",
    "print(x is y)\n",
    "print(x is not y)"
   ]
  },
  {
   "cell_type": "code",
   "execution_count": 49,
   "metadata": {},
   "outputs": [
    {
     "data": {
      "text/plain": [
       "'A'"
      ]
     },
     "execution_count": 49,
     "metadata": {},
     "output_type": "execute_result"
    }
   ],
   "source": [
    "2&2\n",
    "2&5\n",
    "5|10\n",
    "int('0111',2)\n",
    "ord('A')\n",
    "ord('C')\n",
    "chr(65)"
   ]
  },
  {
   "cell_type": "code",
   "execution_count": 50,
   "metadata": {},
   "outputs": [
    {
     "name": "stdout",
     "output_type": "stream",
     "text": [
      "Enter a value: 2\n",
      "Enter b value: 3\n",
      "Enter c value: 5\n",
      "Enter d value: 6\n",
      "Enter e value: 1\n",
      "final result 4.5\n"
     ]
    }
   ],
   "source": [
    "a=int(input(\"Enter a value: \"))\n",
    "b=int(input(\"Enter b value: \"))\n",
    "c=int(input(\"Enter c value: \"))\n",
    "d=int(input(\"Enter d value: \"))\n",
    "e=int(input(\"Enter e value: \"))\n",
    "result=a+b*c/d**e\n",
    "print(\"final result\",result)"
   ]
  },
  {
   "cell_type": "code",
   "execution_count": 51,
   "metadata": {},
   "outputs": [
    {
     "name": "stdout",
     "output_type": "stream",
     "text": [
      "Enter the value :3\n",
      "3 is an Odd number\n"
     ]
    }
   ],
   "source": [
    "n=int(input('Enter the value :'))\n",
    "if n%2==0:\n",
    "    print(n,'is an Even number')\n",
    "else:\n",
    "  print(n,'is an Odd number')  "
   ]
  },
  {
   "cell_type": "code",
   "execution_count": 52,
   "metadata": {},
   "outputs": [
    {
     "name": "stdout",
     "output_type": "stream",
     "text": [
      "Enter the value :7\n",
      "7 is an odd number\n"
     ]
    }
   ],
   "source": [
    "n=int(input('Enter the value :'))\n",
    "if n%2==1:\n",
    "    print(n,'is an odd number')\n",
    "else:\n",
    "  print(n,'is not odd number')  "
   ]
  },
  {
   "cell_type": "code",
   "execution_count": 53,
   "metadata": {},
   "outputs": [
    {
     "name": "stdout",
     "output_type": "stream",
     "text": [
      "Enter value :6\n",
      "friday\n"
     ]
    }
   ],
   "source": [
    "n=int(input(\"Enter value :\"))\n",
    "if(n==1):\n",
    "    print('sunday')\n",
    "elif n==2:\n",
    "    print('monday')\n",
    "elif n==3:\n",
    "    print('tuesday')\n",
    "elif n==4:\n",
    "    print('wedenesday')\n",
    "elif n==5:\n",
    "    print('thrusday')\n",
    "elif n==6:\n",
    "    print('friday')\n",
    "elif n==7:\n",
    "    print('saturday')\n",
    "else:\n",
    "    print('invalid')"
   ]
  },
  {
   "cell_type": "code",
   "execution_count": 16,
   "metadata": {},
   "outputs": [
    {
     "name": "stdout",
     "output_type": "stream",
     "text": [
      "Enter value :7\n",
      "saturday\n"
     ]
    }
   ],
   "source": [
    "n=int(input(\"Enter value :\"))\n",
    "if(n%7==1):\n",
    "    print('sunday')\n",
    "elif n%7==2:\n",
    "    print('monday')\n",
    "elif n%7==3:\n",
    "    print('tuesday')\n",
    "elif n%7==4:\n",
    "    print('wedenesday')\n",
    "elif n%7==5:\n",
    "    print('thrusday')\n",
    "elif n%7==6:\n",
    "    print('friday')\n",
    "elif n%7==0:\n",
    "    print('saturday')\n",
    "else:\n",
    "    print('sunday')\n"
   ]
  },
  {
   "cell_type": "code",
   "execution_count": 14,
   "metadata": {},
   "outputs": [
    {
     "name": "stdout",
     "output_type": "stream",
     "text": [
      "Enter time :18\n",
      "18.0 good evening\n"
     ]
    }
   ],
   "source": [
    "time=float(input(\"Enter time :\"))\n",
    "if time>=0.00 and time<=12.00:\n",
    "    print(time,'good morning')   \n",
    "elif time>=13.00 and time<=17.00:  \n",
    "    print(time,'good afternoon')\n",
    "elif time>=18.00 and time<=24.00:\n",
    "    print(time,'good evening')\n",
    "else:\n",
    "    print(time,'invalid')"
   ]
  },
  {
   "cell_type": "code",
   "execution_count": 30,
   "metadata": {},
   "outputs": [
    {
     "name": "stdout",
     "output_type": "stream",
     "text": [
      "enter a value: 3\n",
      "it is an number\n"
     ]
    }
   ],
   "source": [
    "x=input('enter a value: ')\n",
    "if x=='A':\n",
    "    print(\"it is an alphabet\")\n",
    "elif x>='2' and x<='6':\n",
    "    print(\"it is an number\")\n",
    "else:\n",
    "    print(\"it is a special character\")\n",
    "       "
   ]
  },
  {
   "cell_type": "code",
   "execution_count": null,
   "metadata": {},
   "outputs": [
    {
     "name": "stdout",
     "output_type": "stream",
     "text": [
      "\n",
      "Welcome to Python 3.6's help utility!\n",
      "\n",
      "If this is your first time using Python, you should definitely check out\n",
      "the tutorial on the Internet at https://docs.python.org/3.6/tutorial/.\n",
      "\n",
      "Enter the name of any module, keyword, or topic to get help on writing\n",
      "Python programs and using Python modules.  To quit this help utility and\n",
      "return to the interpreter, just type \"quit\".\n",
      "\n",
      "To get a list of available modules, keywords, symbols, or topics, type\n",
      "\"modules\", \"keywords\", \"symbols\", or \"topics\".  Each module also comes\n",
      "with a one-line summary of what it does; to list the modules whose name\n",
      "or summary contain a given string such as \"spam\", type \"modules spam\".\n",
      "\n",
      "help> modules\n",
      "\n",
      "Please wait a moment while I gather a list of all available modules...\n",
      "\n"
     ]
    },
    {
     "name": "stderr",
     "output_type": "stream",
     "text": [
      "c:\\users\\admin\\appdata\\local\\programs\\python\\python36-32\\lib\\site-packages\\IPython\\kernel\\__init__.py:13: ShimWarning: The `IPython.kernel` package has been deprecated since IPython 4.0.You should import from ipykernel or jupyter_client instead.\n",
      "  \"You should import from ipykernel or jupyter_client instead.\", ShimWarning)\n",
      "c:\\users\\admin\\appdata\\local\\programs\\python\\python36-32\\lib\\pkgutil.py:107: VisibleDeprecationWarning: zmq.eventloop.minitornado is deprecated in pyzmq 14.0 and will be removed.\n",
      "    Install tornado itself to use zmq with the tornado IOLoop.\n",
      "    \n",
      "  yield from walk_packages(path, info.name+'.', onerror)\n"
     ]
    },
    {
     "name": "stdout",
     "output_type": "stream",
     "text": [
      "IPython             calendar            modulefinder        symtable\n",
      "__future__          cffi                msilib              sys\n",
      "_ast                cgi                 msvcrt              sysconfig\n",
      "_asyncio            cgitb               multiprocessing     tabnanny\n",
      "_bisect             chunk               nbclient            tarfile\n",
      "_blake2             cmath               nbconvert           telnetlib\n",
      "_bootlocale         cmd                 nbformat            tempfile\n",
      "_bz2                code                nest_asyncio        terminado\n",
      "_cffi_backend       codecs              netbios             test\n",
      "_codecs             codeop              netrc               testpath\n",
      "_codecs_cn          collections         nntplib             tests\n",
      "_codecs_hk          colorama            notebook            textwrap\n",
      "_codecs_iso2022     colorsys            nt                  this\n",
      "_codecs_jp          commctrl            ntpath              threading\n",
      "_codecs_kr          compileall          ntsecuritycon       time\n",
      "_codecs_tw          concurrent          nturl2path          timeit\n",
      "_collections        configparser        numbers             timer\n",
      "_collections_abc    contextlib          odbc                tkinter\n",
      "_compat_pickle      copy                opcode              token\n",
      "_compression        copyreg             operator            tokenize\n",
      "_csv                crypt               optparse            tornado\n",
      "_ctypes             csv                 os                  trace\n",
      "_ctypes_test        ctypes              packaging           traceback\n",
      "_datetime           curses              pandocfilters       tracemalloc\n",
      "_decimal            cythonmagic         parser              traitlets\n",
      "_distutils_findvs   datetime            parso               tty\n",
      "_dummy_thread       dateutil            pathlib             turtle\n",
      "_elementtree        dbi                 pdb                 turtledemo\n",
      "_functools          dbm                 perfmon             types\n",
      "_hashlib            dde                 pickle              typing\n",
      "_heapq              decimal             pickleshare         typing_extensions\n",
      "_imp                decorator           pickletools         unicodedata\n",
      "_io                 defusedxml          pip                 unittest\n",
      "_json               difflib             pipes               urllib\n",
      "_locale             dis                 pkg_resources       uu\n",
      "_lsprof             distutils           pkgutil             uuid\n",
      "_lzma               doctest             platform            venv\n",
      "_markupbase         dummy_threading     plistlib            warnings\n",
      "_md5                easy_install        poplib              wave\n",
      "_msi                email               posixpath           wcwidth\n",
      "_multibytecodec     encodings           pprint              weakref\n",
      "_multiprocessing    ensurepip           profile             webbrowser\n",
      "_opcode             entrypoints         prometheus_client   webencodings\n",
      "_operator           enum                prompt_toolkit      widgetsnbextension\n",
      "_osx_support        errno               pstats              win2kras\n",
      "_overlapped         faulthandler        pty                 win32api\n",
      "_pickle             filecmp             py_compile          win32clipboard\n",
      "_pydecimal          fileinput           pyclbr              win32com\n",
      "_pyio               fnmatch             pycparser           win32con\n",
      "_pyrsistent_version formatter           pydoc               win32console\n",
      "_random             fractions           pydoc_data          win32cred\n",
      "_sha1               ftplib              pyexpat             win32crypt\n",
      "_sha256             functools           pygments            win32cryptcon\n",
      "_sha3               gc                  pyparsing           win32event\n",
      "_sha512             genericpath         pyrsistent          win32evtlog\n",
      "_signal             getopt              pythoncom           win32evtlogutil\n",
      "_sitebuiltins       getpass             pywin               win32file\n",
      "_socket             gettext             pywin32_bootstrap   win32gui\n",
      "_sqlite3            glob                pywin32_testutil    win32gui_struct\n",
      "_sre                gzip                pywintypes          win32help\n",
      "_ssl                hashlib             qtconsole           win32inet\n",
      "_stat               heapq               qtpy                win32inetcon\n",
      "_string             hmac                queue               win32job\n",
      "_strptime           html                quopri              win32lz\n",
      "_struct             http                random              win32net\n",
      "_symtable           idlelib             rasutil             win32netcon\n",
      "_testbuffer         imaplib             re                  win32pdh\n",
      "_testcapi           imghdr              regcheck            win32pdhquery\n",
      "_testconsole        imp                 regutil             win32pdhutil\n",
      "_testimportmultiple importlib           reprlib             win32pipe\n",
      "_testmultiphase     importlib_metadata  rlcompleter         win32print\n",
      "_thread             inspect             rmagic              win32process\n",
      "_threading_local    io                  runpy               win32profile\n",
      "_tkinter            ipaddress           sched               win32ras\n",
      "_tracemalloc        ipykernel           secrets             win32rcparser\n",
      "_warnings           ipykernel_launcher  select              win32security\n",
      "_weakref            ipython_genutils    selectors           win32service\n",
      "_weakrefset         ipywidgets          send2trash          win32serviceutil\n",
      "_win32sysloader     isapi               servicemanager      win32timezone\n",
      "_winapi             itertools           setuptools          win32trace\n",
      "_winxptheme         jedi                shelve              win32traceutil\n",
      "abc                 jinja2              shlex               win32transaction\n",
      "adodbapi            json                shutil              win32ts\n",
      "afxres              jsonschema          signal              win32ui\n",
      "aifc                jupyter             site                win32uiole\n",
      "antigravity         jupyter_client      six                 win32verstamp\n",
      "argon2              jupyter_console     smtpd               win32wnet\n",
      "argparse            jupyter_core        smtplib             winerror\n",
      "array               jupyterlab_pygments sndhdr              winioctlcon\n",
      "ast                 jupyterlab_widgets  socket              winnt\n",
      "async_generator     keyword             socketserver        winperf\n",
      "asynchat            lib2to3             sqlite3             winpty\n",
      "asyncio             linecache           sre_compile         winreg\n",
      "asyncore            locale              sre_constants       winsound\n",
      "atexit              logging             sre_parse           winxpgui\n",
      "attr                lzma                ssl                 winxptheme\n",
      "audioop             macpath             sspi                wsgiref\n",
      "autoreload          macurl2path         sspicon             xdrlib\n",
      "backcall            mailbox             stat                xml\n",
      "base64              mailcap             statistics          xmlrpc\n",
      "bdb                 markupsafe          storemagic          xxsubtype\n",
      "binascii            marshal             string              zipapp\n",
      "binhex              math                stringprep          zipfile\n",
      "bisect              mimetypes           struct              zipimport\n",
      "bleach              mistune             subprocess          zipp\n",
      "builtins            mmap                sunau               zlib\n",
      "bz2                 mmapfile            symbol              zmq\n",
      "cProfile            mmsystem            sympyprinting       \n",
      "\n",
      "Enter any module name to get more help.  Or, type \"modules spam\" to search\n",
      "for modules whose name or summary contain the string \"spam\".\n",
      "\n"
     ]
    }
   ],
   "source": [
    "help()"
   ]
  },
  {
   "cell_type": "code",
   "execution_count": 1,
   "metadata": {},
   "outputs": [
    {
     "data": {
      "text/plain": [
       "['__call__',\n",
       " '__class__',\n",
       " '__delattr__',\n",
       " '__dir__',\n",
       " '__doc__',\n",
       " '__eq__',\n",
       " '__format__',\n",
       " '__func__',\n",
       " '__ge__',\n",
       " '__get__',\n",
       " '__getattribute__',\n",
       " '__gt__',\n",
       " '__hash__',\n",
       " '__init__',\n",
       " '__init_subclass__',\n",
       " '__le__',\n",
       " '__lt__',\n",
       " '__ne__',\n",
       " '__new__',\n",
       " '__reduce__',\n",
       " '__reduce_ex__',\n",
       " '__repr__',\n",
       " '__self__',\n",
       " '__setattr__',\n",
       " '__sizeof__',\n",
       " '__str__',\n",
       " '__subclasshook__']"
      ]
     },
     "execution_count": 1,
     "metadata": {},
     "output_type": "execute_result"
    }
   ],
   "source": [
    "from getpass import getpass\n",
    "dir(getpass)"
   ]
  },
  {
   "cell_type": "code",
   "execution_count": 2,
   "metadata": {},
   "outputs": [
    {
     "data": {
      "text/plain": [
       "['GetPassWarning',\n",
       " '__all__',\n",
       " '__builtins__',\n",
       " '__cached__',\n",
       " '__doc__',\n",
       " '__file__',\n",
       " '__loader__',\n",
       " '__name__',\n",
       " '__package__',\n",
       " '__spec__',\n",
       " '_raw_input',\n",
       " 'contextlib',\n",
       " 'fallback_getpass',\n",
       " 'getpass',\n",
       " 'getuser',\n",
       " 'io',\n",
       " 'msvcrt',\n",
       " 'os',\n",
       " 'sys',\n",
       " 'unix_getpass',\n",
       " 'warnings',\n",
       " 'win_getpass']"
      ]
     },
     "execution_count": 2,
     "metadata": {},
     "output_type": "execute_result"
    }
   ],
   "source": [
    "import getpass\n",
    "dir(getpass)"
   ]
  },
  {
   "cell_type": "code",
   "execution_count": 3,
   "metadata": {},
   "outputs": [
    {
     "name": "stdout",
     "output_type": "stream",
     "text": [
      "enter username: salma\n",
      "enter password: ········\n",
      "welcome salma\n"
     ]
    }
   ],
   "source": [
    "from getpass import getpass\n",
    "username=input('enter username: ')\n",
    "password= getpass('enter password: ')\n",
    "if username == \"salma\" and password==\"1234455\":\n",
    "    print(\"welcome\",username)\n",
    "else:\n",
    "    print('invalid username and password')"
   ]
  },
  {
   "cell_type": "code",
   "execution_count": 8,
   "metadata": {},
   "outputs": [
    {
     "name": "stdout",
     "output_type": "stream",
     "text": [
      "0,1,2,3,4,5,6,7,8,9,10,11,12,13,14,15,16,17,18,19,20,21,22,23,24,25,26,27,28,29,30,31,32,33,34,35,36,37,38,39,40,41,42,43,44,45,46,47,48,49,50,51,52,53,54,55,56,57,58,59,60,61,62,63,64,65,66,67,68,69,70,71,72,73,74,75,76,77,78,79,80,81,82,83,84,85,86,87,88,89,90,91,92,93,94,95,96,97,98,99,100,"
     ]
    }
   ],
   "source": [
    "for i in range(100+1):\n",
    "    print(i,end=\",\")"
   ]
  },
  {
   "cell_type": "code",
   "execution_count": 9,
   "metadata": {},
   "outputs": [
    {
     "name": "stdout",
     "output_type": "stream",
     "text": [
      "1,2,3,4,5,6,7,8,9,10,11,12,13,14,15,16,17,18,19,20,21,22,23,24,25,26,27,28,29,30,31,32,33,34,35,36,37,38,39,40,41,42,43,44,45,46,47,48,49,50,"
     ]
    }
   ],
   "source": [
    "for j in range(1,50+1):\n",
    "    print(j,end=\",\")"
   ]
  },
  {
   "cell_type": "code",
   "execution_count": 11,
   "metadata": {},
   "outputs": [
    {
     "name": "stdout",
     "output_type": "stream",
     "text": [
      "51,50,49,48,47,46,45,44,43,42,41,40,39,38,37,36,35,34,33,32,31,30,29,28,27,26,25,24,23,22,21,20,19,18,17,16,15,14,13,12,11,10,9,8,7,6,5,4,3,2,"
     ]
    }
   ],
   "source": [
    "for k in range(51,1,-1):\n",
    "    print(k,end=\",\")"
   ]
  },
  {
   "cell_type": "code",
   "execution_count": 13,
   "metadata": {},
   "outputs": [
    {
     "name": "stdout",
     "output_type": "stream",
     "text": [
      "0,2,4,6,8,10,12,14,16,18,20,22,24,26,28,30,32,34,36,38,40,42,44,46,48,50,52,54,56,58,60,62,64,66,68,70,72,74,76,78,80,82,84,86,88,90,92,94,96,98,"
     ]
    }
   ],
   "source": [
    "for l in range(0,100,2):\n",
    "    print(l,end=\",\")\n"
   ]
  },
  {
   "cell_type": "code",
   "execution_count": 14,
   "metadata": {},
   "outputs": [
    {
     "name": "stdout",
     "output_type": "stream",
     "text": [
      "1,3,5,7,9,11,13,15,17,19,21,23,25,27,29,31,33,35,37,39,41,43,45,47,49,51,53,55,57,59,61,63,65,67,69,71,73,75,77,79,81,83,85,87,89,91,93,95,97,99,"
     ]
    }
   ],
   "source": [
    "for s in range(1,101,2):\n",
    "    print(s,end=\",\")"
   ]
  },
  {
   "cell_type": "code",
   "execution_count": 5,
   "metadata": {},
   "outputs": [
    {
     "name": "stdout",
     "output_type": "stream",
     "text": [
      "10\n",
      "0\n",
      "1\n",
      "3\n",
      "6\n",
      "10\n",
      "15\n",
      "21\n",
      "28\n",
      "36\n",
      "45\n",
      "55\n"
     ]
    }
   ],
   "source": [
    "n=int(input())\n",
    "s=0\n",
    "for i in range(n+1):\n",
    "    s=s+i\n",
    "    #print(i,end=\" \")\n",
    "    print(s)"
   ]
  },
  {
   "cell_type": "code",
   "execution_count": 23,
   "metadata": {},
   "outputs": [
    {
     "name": "stdout",
     "output_type": "stream",
     "text": [
      "10\n",
      "10\n",
      "12\n",
      "14\n",
      "16\n",
      "18\n"
     ]
    }
   ],
   "source": [
    "n = int(input())\n",
    "for i in range(10,20,2):\n",
    "    print(i)"
   ]
  },
  {
   "cell_type": "code",
   "execution_count": 29,
   "metadata": {},
   "outputs": [
    {
     "name": "stdout",
     "output_type": "stream",
     "text": [
      "10\n",
      "10\n",
      "8\n",
      "6\n",
      "4\n"
     ]
    }
   ],
   "source": [
    "n = int(input())\n",
    "for i in range(10,2,-2):\n",
    "    print(i)"
   ]
  },
  {
   "cell_type": "code",
   "execution_count": 33,
   "metadata": {},
   "outputs": [
    {
     "name": "stdout",
     "output_type": "stream",
     "text": [
      "enter the number : 6\n",
      "factorial 720\n"
     ]
    }
   ],
   "source": [
    "n=int(input(\"enter the number : \"))\n",
    "f=1\n",
    "for i in range(1,n+1):\n",
    "    f=f*i\n",
    "print('factorial',f)"
   ]
  },
  {
   "cell_type": "code",
   "execution_count": 38,
   "metadata": {},
   "outputs": [
    {
     "name": "stdout",
     "output_type": "stream",
     "text": [
      "enter table number:5\n",
      "enter table upto:5\n",
      "5 * 1 = 5\n",
      "5 * 2 = 10\n",
      "5 * 3 = 15\n",
      "5 * 4 = 20\n",
      "5 * 5 = 25\n"
     ]
    }
   ],
   "source": [
    "n = int(input('enter table number:'))\n",
    "m = int(input('enter table upto:'))\n",
    "for i in range(1,m+1):\n",
    "    print('{} * {} = {}'.format(n,i,n*i))"
   ]
  },
  {
   "cell_type": "code",
   "execution_count": 41,
   "metadata": {},
   "outputs": [
    {
     "name": "stdout",
     "output_type": "stream",
     "text": [
      "salma salma salma salma salma \n"
     ]
    }
   ],
   "source": [
    "print('salma ' * 5)"
   ]
  },
  {
   "cell_type": "code",
   "execution_count": 42,
   "metadata": {},
   "outputs": [
    {
     "name": "stdout",
     "output_type": "stream",
     "text": [
      "happy new year happy new year happy new year happy new year happy new year "
     ]
    }
   ],
   "source": [
    "for i in range(5):\n",
    "    print('happy new year',end=\" \")\n"
   ]
  },
  {
   "cell_type": "code",
   "execution_count": 35,
   "metadata": {},
   "outputs": [
    {
     "name": "stdout",
     "output_type": "stream",
     "text": [
      "enter table number:1\n",
      "enter table upto:10\n",
      "1 * 1 = 1\n",
      "1 * 2 = 2\n",
      "1 * 3 = 3\n",
      "1 * 4 = 4\n",
      "1 * 5 = 5\n",
      "1 * 6 = 6\n",
      "1 * 7 = 7\n",
      "1 * 8 = 8\n",
      "1 * 9 = 9\n",
      "1 * 10 = 10\n"
     ]
    }
   ],
   "source": [
    "n = int(input('enter table number:'))\n",
    "m = int(input('enter table upto:'))\n",
    "for i in range(1,n+1):\n",
    "    for j in range(1,m+1):\n",
    "        print('{} * {} = {}'.format(n,j,n*j))"
   ]
  },
  {
   "cell_type": "code",
   "execution_count": 4,
   "metadata": {},
   "outputs": [
    {
     "name": "stdout",
     "output_type": "stream",
     "text": [
      "1\n",
      "2\n",
      "3\n",
      "4\n",
      "5\n",
      "6\n",
      "7\n",
      "8\n",
      "9\n"
     ]
    }
   ],
   "source": [
    "i=1\n",
    "while i<10:\n",
    "    print(i)\n",
    "    i+=1"
   ]
  },
  {
   "cell_type": "code",
   "execution_count": 8,
   "metadata": {},
   "outputs": [
    {
     "name": "stdout",
     "output_type": "stream",
     "text": [
      "10\n",
      "9\n",
      "8\n",
      "7\n",
      "6\n",
      "5\n",
      "4\n",
      "3\n",
      "2\n",
      "1\n"
     ]
    }
   ],
   "source": [
    "i=10\n",
    "while i>=1:\n",
    "    print(i)\n",
    "    i-=1"
   ]
  },
  {
   "cell_type": "code",
   "execution_count": 21,
   "metadata": {},
   "outputs": [
    {
     "name": "stdout",
     "output_type": "stream",
     "text": [
      "0\n",
      "2\n",
      "4\n",
      "6\n",
      "8\n",
      "10\n"
     ]
    }
   ],
   "source": [
    "i=0\n",
    "while i<=10:\n",
    "    print(i)\n",
    "    i+=2"
   ]
  },
  {
   "cell_type": "code",
   "execution_count": 20,
   "metadata": {},
   "outputs": [
    {
     "name": "stdout",
     "output_type": "stream",
     "text": [
      "1\n",
      "3\n",
      "5\n",
      "7\n",
      "9\n"
     ]
    }
   ],
   "source": [
    "i=1\n",
    "while i<=10:\n",
    "    print(i)\n",
    "    i+=2"
   ]
  },
  {
   "cell_type": "code",
   "execution_count": 34,
   "metadata": {},
   "outputs": [
    {
     "name": "stdout",
     "output_type": "stream",
     "text": [
      "enter value:1\n",
      "odd number 1\n",
      "even number 2\n",
      "odd number 3\n",
      "even number 4\n",
      "odd number 5\n",
      "even number 6\n",
      "odd number 7\n",
      "even number 8\n",
      "odd number 9\n"
     ]
    }
   ],
   "source": [
    "i=int(input('enter value:'))\n",
    "while i<10:\n",
    "    if i%2==0:\n",
    "        print('even number',i)\n",
    "    else:\n",
    "        print('odd number',i)\n",
    "    i+=1\n",
    "   \n",
    "    "
   ]
  },
  {
   "cell_type": "code",
   "execution_count": null,
   "metadata": {},
   "outputs": [],
   "source": [
    "i=int(input('enter value:'))\n",
    "while i<10:\n",
    "    if i%2==0:\n",
    "        print('even number',i)"
   ]
  },
  {
   "cell_type": "code",
   "execution_count": 38,
   "metadata": {},
   "outputs": [
    {
     "data": {
      "text/plain": [
       "['BackgroundBrowser',\n",
       " 'BaseBrowser',\n",
       " 'Chrome',\n",
       " 'Chromium',\n",
       " 'Elinks',\n",
       " 'Error',\n",
       " 'Galeon',\n",
       " 'GenericBrowser',\n",
       " 'Grail',\n",
       " 'Konqueror',\n",
       " 'Mozilla',\n",
       " 'Netscape',\n",
       " 'Opera',\n",
       " 'UnixBrowser',\n",
       " 'WindowsDefault',\n",
       " '__all__',\n",
       " '__builtins__',\n",
       " '__cached__',\n",
       " '__doc__',\n",
       " '__file__',\n",
       " '__loader__',\n",
       " '__name__',\n",
       " '__package__',\n",
       " '__spec__',\n",
       " '_browsers',\n",
       " '_synthesize',\n",
       " '_tryorder',\n",
       " 'browser',\n",
       " 'get',\n",
       " 'iexplore',\n",
       " 'main',\n",
       " 'open',\n",
       " 'open_new',\n",
       " 'open_new_tab',\n",
       " 'os',\n",
       " 'register',\n",
       " 'register_X_browsers',\n",
       " 'shlex',\n",
       " 'shutil',\n",
       " 'subprocess',\n",
       " 'sys']"
      ]
     },
     "execution_count": 38,
     "metadata": {},
     "output_type": "execute_result"
    }
   ],
   "source": [
    "import webbrowser\n",
    "\n",
    "dir(webbrowser)"
   ]
  },
  {
   "cell_type": "code",
   "execution_count": 39,
   "metadata": {},
   "outputs": [
    {
     "data": {
      "text/plain": [
       "True"
      ]
     },
     "execution_count": 39,
     "metadata": {},
     "output_type": "execute_result"
    }
   ],
   "source": [
    "import webbrowser \n",
    "\n",
    "dir(webbrowser)\n",
    "\n",
    "webbrowser.open(\"www.google.com\")"
   ]
  },
  {
   "cell_type": "code",
   "execution_count": 40,
   "metadata": {},
   "outputs": [
    {
     "data": {
      "text/plain": [
       "'Tue Jan  5 11:28:40 2021'"
      ]
     },
     "execution_count": 40,
     "metadata": {},
     "output_type": "execute_result"
    }
   ],
   "source": [
    "import time\n",
    "time.ctime()"
   ]
  },
  {
   "cell_type": "code",
   "execution_count": 46,
   "metadata": {},
   "outputs": [
    {
     "name": "stdout",
     "output_type": "stream",
     "text": [
      "Tue Jan  5 11:43:42 2021\n",
      "Tue Jan  5 11:43:52 2021\n"
     ]
    }
   ],
   "source": [
    "import webbrowser,time\n",
    "totalbreaks=2\n",
    "count=0\n",
    "\n",
    "while count<totalbreaks:\n",
    "    print(time.ctime())\n",
    "    time.sleep(10)\n",
    "    \n",
    "    if count==1:\n",
    "        webbrowser.open('www.google.com')\n",
    "    elif count==2:\n",
    "        webbrowser.open('www.gmail.com')\n",
    "        \n",
    "    count+=1   "
   ]
  },
  {
   "cell_type": "code",
   "execution_count": 52,
   "metadata": {},
   "outputs": [
    {
     "name": "stdout",
     "output_type": "stream",
     "text": [
      "10\n",
      "11\n",
      "12\n",
      "13\n"
     ]
    }
   ],
   "source": [
    "i = 10\n",
    "while i<20:\n",
    "    print(i)\n",
    "    if i == 13:\n",
    "        break\n",
    "    else:\n",
    "        i+=1\n",
    "    "
   ]
  },
  {
   "cell_type": "code",
   "execution_count": 63,
   "metadata": {},
   "outputs": [
    {
     "name": "stdout",
     "output_type": "stream",
     "text": [
      "h\n",
      "e\n"
     ]
    }
   ],
   "source": [
    "s = 'hello karishma'\n",
    "for i in s:\n",
    "    if i == 'l': \n",
    "        break\n",
    "    print(i) "
   ]
  },
  {
   "cell_type": "code",
   "execution_count": 68,
   "metadata": {},
   "outputs": [
    {
     "name": "stdout",
     "output_type": "stream",
     "text": [
      "11\n",
      "12\n",
      "13\n",
      "14\n",
      "16\n",
      "17\n",
      "18\n",
      "19\n",
      "20\n"
     ]
    }
   ],
   "source": [
    "i = 10\n",
    "while i<20:\n",
    "    i+=1\n",
    "    if i == 15:\n",
    "        continue\n",
    "    print(i)\n",
    "    "
   ]
  },
  {
   "cell_type": "code",
   "execution_count": 73,
   "metadata": {},
   "outputs": [
    {
     "name": "stdout",
     "output_type": "stream",
     "text": [
      "h\n",
      "o\n",
      " \n",
      "k\n",
      "a\n",
      "r\n",
      "i\n",
      "s\n",
      "h\n",
      "m\n",
      "a\n"
     ]
    }
   ],
   "source": [
    "s = 'hello karishma'\n",
    "for i in s:\n",
    "    if i == 'l' or i == 'e': \n",
    "        continue\n",
    "    print(i) "
   ]
  },
  {
   "cell_type": "code",
   "execution_count": null,
   "metadata": {},
   "outputs": [],
   "source": [
    "               "
   ]
  },
  {
   "cell_type": "code",
   "execution_count": null,
   "metadata": {},
   "outputs": [],
   "source": []
  },
  {
   "cell_type": "code",
   "execution_count": null,
   "metadata": {},
   "outputs": [],
   "source": []
  },
  {
   "cell_type": "code",
   "execution_count": null,
   "metadata": {},
   "outputs": [],
   "source": []
  }
 ],
 "metadata": {
  "kernelspec": {
   "display_name": "Python 3",
   "language": "python",
   "name": "python3"
  },
  "language_info": {
   "codemirror_mode": {
    "name": "ipython",
    "version": 3
   },
   "file_extension": ".py",
   "mimetype": "text/x-python",
   "name": "python",
   "nbconvert_exporter": "python",
   "pygments_lexer": "ipython3",
   "version": "3.6.5"
  }
 },
 "nbformat": 4,
 "nbformat_minor": 4
}
