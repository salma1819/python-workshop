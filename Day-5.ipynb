{
 "cells": [
  {
   "cell_type": "markdown",
   "metadata": {},
   "source": [
    "# 1.Regular Expression:\n",
    "# 2.OOps\n",
    "# 3.numerical data(Numpy)\n",
    "# 4.matplotlib\n",
    "# 5.Pandas"
   ]
  },
  {
   "cell_type": "markdown",
   "metadata": {},
   "source": [
    "# Regular Expression:\n",
    "* to check the data is valid or not\n",
    "* data filters"
   ]
  },
  {
   "cell_type": "code",
   "execution_count": 6,
   "metadata": {},
   "outputs": [
    {
     "name": "stdout",
     "output_type": "stream",
     "text": [
      "aca\n"
     ]
    }
   ],
   "source": [
    "l=['abc','aca','adc']\n",
    "for i in l:\n",
    "    if i.endswith('a'):\n",
    "        print(i)"
   ]
  },
  {
   "cell_type": "code",
   "execution_count": 9,
   "metadata": {},
   "outputs": [
    {
     "name": "stdout",
     "output_type": "stream",
     "text": [
      "aca\n",
      "ada\n",
      "abba\n"
     ]
    }
   ],
   "source": [
    "l=['abc','aca','ada','abba']\n",
    "for i in l:\n",
    "    if i.endswith('a') and i.startswith('a'):\n",
    "        print(i)"
   ]
  },
  {
   "cell_type": "code",
   "execution_count": 10,
   "metadata": {},
   "outputs": [],
   "source": [
    "import re"
   ]
  },
  {
   "cell_type": "code",
   "execution_count": 11,
   "metadata": {},
   "outputs": [
    {
     "data": {
      "text/plain": [
       "['A',\n",
       " 'ASCII',\n",
       " 'DEBUG',\n",
       " 'DOTALL',\n",
       " 'I',\n",
       " 'IGNORECASE',\n",
       " 'L',\n",
       " 'LOCALE',\n",
       " 'M',\n",
       " 'MULTILINE',\n",
       " 'RegexFlag',\n",
       " 'S',\n",
       " 'Scanner',\n",
       " 'T',\n",
       " 'TEMPLATE',\n",
       " 'U',\n",
       " 'UNICODE',\n",
       " 'VERBOSE',\n",
       " 'X',\n",
       " '_MAXCACHE',\n",
       " '__all__',\n",
       " '__builtins__',\n",
       " '__cached__',\n",
       " '__doc__',\n",
       " '__file__',\n",
       " '__loader__',\n",
       " '__name__',\n",
       " '__package__',\n",
       " '__spec__',\n",
       " '__version__',\n",
       " '_alphanum_bytes',\n",
       " '_alphanum_str',\n",
       " '_cache',\n",
       " '_compile',\n",
       " '_compile_repl',\n",
       " '_expand',\n",
       " '_locale',\n",
       " '_pattern_type',\n",
       " '_pickle',\n",
       " '_subx',\n",
       " 'compile',\n",
       " 'copyreg',\n",
       " 'enum',\n",
       " 'error',\n",
       " 'escape',\n",
       " 'findall',\n",
       " 'finditer',\n",
       " 'fullmatch',\n",
       " 'functools',\n",
       " 'match',\n",
       " 'purge',\n",
       " 'search',\n",
       " 'split',\n",
       " 'sre_compile',\n",
       " 'sre_parse',\n",
       " 'sub',\n",
       " 'subn',\n",
       " 'template']"
      ]
     },
     "execution_count": 11,
     "metadata": {},
     "output_type": "execute_result"
    }
   ],
   "source": [
    "dir(re)"
   ]
  },
  {
   "cell_type": "markdown",
   "metadata": {},
   "source": [
    "# syntax:\n",
    "# re.methodname(pattern,data)\n",
    "# pattern is format of requried data\n",
    "# data is given values"
   ]
  },
  {
   "cell_type": "code",
   "execution_count": 26,
   "metadata": {},
   "outputs": [
    {
     "data": {
      "text/plain": [
       "True"
      ]
     },
     "execution_count": 26,
     "metadata": {},
     "output_type": "execute_result"
    }
   ],
   "source": [
    "s='abcaadaa'\n",
    "'a'in s"
   ]
  },
  {
   "cell_type": "code",
   "execution_count": 27,
   "metadata": {},
   "outputs": [
    {
     "data": {
      "text/plain": [
       "<_sre.SRE_Match object; span=(3, 5), match='aa'>"
      ]
     },
     "execution_count": 27,
     "metadata": {},
     "output_type": "execute_result"
    }
   ],
   "source": [
    "re.search('aa',s)"
   ]
  },
  {
   "cell_type": "code",
   "execution_count": 28,
   "metadata": {},
   "outputs": [],
   "source": [
    "re.match('aa',s)"
   ]
  },
  {
   "cell_type": "code",
   "execution_count": 29,
   "metadata": {},
   "outputs": [
    {
     "data": {
      "text/plain": [
       "['aa', 'aa']"
      ]
     },
     "execution_count": 29,
     "metadata": {},
     "output_type": "execute_result"
    }
   ],
   "source": [
    "re.findall('aa',s)"
   ]
  },
  {
   "cell_type": "markdown",
   "metadata": {},
   "source": [
    "## . (dot)\n",
    "* it matches any single character"
   ]
  },
  {
   "cell_type": "code",
   "execution_count": 33,
   "metadata": {},
   "outputs": [],
   "source": [
    "l=['abc','aca','aaa','abba','']"
   ]
  },
  {
   "cell_type": "code",
   "execution_count": 34,
   "metadata": {},
   "outputs": [
    {
     "name": "stdout",
     "output_type": "stream",
     "text": [
      "abc\n",
      "aca\n",
      "aaa\n",
      "abba\n"
     ]
    }
   ],
   "source": [
    "for i in l:\n",
    "    if re.search('.',i):\n",
    "        print(i)"
   ]
  },
  {
   "cell_type": "code",
   "execution_count": 35,
   "metadata": {},
   "outputs": [
    {
     "name": "stdout",
     "output_type": "stream",
     "text": [
      "abc\n",
      "aca\n",
      "aaa\n"
     ]
    }
   ],
   "source": [
    "l=['abc','aca','aaa','abba','']\n",
    "for i in l:\n",
    "    if len(i)==3:\n",
    "        print(i)\n",
    "    "
   ]
  },
  {
   "cell_type": "code",
   "execution_count": 37,
   "metadata": {},
   "outputs": [
    {
     "name": "stdout",
     "output_type": "stream",
     "text": [
      "ab\n",
      "aca\n",
      "aaa\n"
     ]
    }
   ],
   "source": [
    "l=['ab','aca','aaa','abba','']\n",
    "for i in l:\n",
    "    if len(i)==3 or len(i)==2:\n",
    "        print(i)\n",
    "    "
   ]
  },
  {
   "cell_type": "code",
   "execution_count": 38,
   "metadata": {},
   "outputs": [
    {
     "name": "stdout",
     "output_type": "stream",
     "text": [
      "ab\n",
      "aca\n",
      "aaa\n",
      "abba\n"
     ]
    }
   ],
   "source": [
    "for i in l:\n",
    "    if re.search('..',i):\n",
    "        print(i)"
   ]
  },
  {
   "cell_type": "markdown",
   "metadata": {},
   "source": [
    "### *(star)\n",
    "* min value 0 and max value"
   ]
  },
  {
   "cell_type": "code",
   "execution_count": 39,
   "metadata": {},
   "outputs": [
    {
     "name": "stdout",
     "output_type": "stream",
     "text": [
      "ab\n",
      "aca\n",
      "aaa\n",
      "abba\n",
      "\n"
     ]
    }
   ],
   "source": [
    "for i in l:\n",
    "    if re.search('a*',i):\n",
    "        print(i)"
   ]
  },
  {
   "cell_type": "markdown",
   "metadata": {},
   "source": [
    "### +(plus)\n",
    "* min value is 1 and max value is any"
   ]
  },
  {
   "cell_type": "code",
   "execution_count": 42,
   "metadata": {},
   "outputs": [
    {
     "name": "stdout",
     "output_type": "stream",
     "text": [
      "aaa\n"
     ]
    }
   ],
   "source": [
    "for i in l:\n",
    "    if re.search('aa',i):\n",
    "        print(i)"
   ]
  },
  {
   "cell_type": "code",
   "execution_count": 43,
   "metadata": {},
   "outputs": [
    {
     "name": "stdout",
     "output_type": "stream",
     "text": [
      "aca\n",
      "aaa\n",
      "abba\n"
     ]
    }
   ],
   "source": [
    "for i in l:\n",
    "    if re.search('a.+a',i):\n",
    "        print(i)"
   ]
  },
  {
   "cell_type": "markdown",
   "metadata": {},
   "source": [
    "### ^(cap)\n",
    "* start with\n",
    "### $(doller)\n",
    "* ends with\n",
    "### \\d:\n",
    "* digits\n",
    "### []:\n",
    "* specific values\n",
    "### {min,max}\n",
    "* min to max values"
   ]
  },
  {
   "cell_type": "code",
   "execution_count": 48,
   "metadata": {},
   "outputs": [
    {
     "name": "stdout",
     "output_type": "stream",
     "text": [
      "['1', '123', '2', '456']\n"
     ]
    },
    {
     "data": {
      "text/plain": [
       "582"
      ]
     },
     "execution_count": 48,
     "metadata": {},
     "output_type": "execute_result"
    }
   ],
   "source": [
    "s='1 123 2 456'\n",
    "l=s.split()\n",
    "print(l)\n",
    "sum(list(map(int,l)))"
   ]
  },
  {
   "cell_type": "code",
   "execution_count": 51,
   "metadata": {},
   "outputs": [
    {
     "data": {
      "text/plain": [
       "579"
      ]
     },
     "execution_count": 51,
     "metadata": {},
     "output_type": "execute_result"
    }
   ],
   "source": [
    "s='abc 123 hello 456'\n",
    "pattern='\\d+'\n",
    "li=re.findall(pattern,s)\n",
    "sum(list(map(int,li)))"
   ]
  },
  {
   "cell_type": "code",
   "execution_count": 53,
   "metadata": {},
   "outputs": [],
   "source": [
    "names=['salma','karrusanika','lucky','karishma']\n",
    "pattern='.{4}$'\n",
    "for name in names:\n",
    "    if re.match(pattern,name):\n",
    "        print(name)"
   ]
  },
  {
   "cell_type": "code",
   "execution_count": 60,
   "metadata": {},
   "outputs": [
    {
     "name": "stdout",
     "output_type": "stream",
     "text": [
      "karrusanika\n",
      "karishma\n"
     ]
    }
   ],
   "source": [
    "names=['salma','karrusanika','lucky','karishma','aaa']\n",
    "pattern='^k.+'\n",
    "for name in names:\n",
    "    if re.match(pattern,name):\n",
    "        print(name)"
   ]
  },
  {
   "cell_type": "code",
   "execution_count": 77,
   "metadata": {},
   "outputs": [],
   "source": [
    "names=['salma','karrusanika','lucky','karishma']\n",
    "pattern='^s.{5}$'\n",
    "for name in names:\n",
    "    if re.match(pattern,name):\n",
    "        print(name)"
   ]
  },
  {
   "cell_type": "code",
   "execution_count": 75,
   "metadata": {},
   "outputs": [
    {
     "name": "stdout",
     "output_type": "stream",
     "text": [
      "karrusanika\n"
     ]
    }
   ],
   "source": [
    "s=['ramu','anil','karrusanika','salma','lucky']\n",
    "pattern='^a.{3}$'\n",
    "pattern1='^.+(ka)$'\n",
    "for name in s:\n",
    "    if re.match(pattern1,name):\n",
    "        print(name)"
   ]
  },
  {
   "cell_type": "code",
   "execution_count": 79,
   "metadata": {},
   "outputs": [
    {
     "name": "stdout",
     "output_type": "stream",
     "text": [
      "9133533090\n",
      "8712415740\n",
      "7093384843\n",
      "7993296270\n"
     ]
    }
   ],
   "source": [
    "### how to valid a phone number\n",
    "# 10 digits\n",
    "# starts with 6-9\n",
    "numbers = ['9133533090','8712415740','7093384843','7993296270','5623451200']\n",
    "pattern='^[6-9]\\d{9}$'\n",
    "for number in numbers:\n",
    "    if re.match(pattern,number):\n",
    "        print(number)"
   ]
  },
  {
   "cell_type": "code",
   "execution_count": 94,
   "metadata": {},
   "outputs": [
    {
     "name": "stdout",
     "output_type": "stream",
     "text": [
      "+919912725709\n"
     ]
    }
   ],
   "source": [
    "numbers1 = ['+919912725709']\n",
    "numbers = ['+919133533090','8712415740','7093384843','7993296270','5623451200']\n",
    "pattern='^(\\+91)[6-9]\\d{9}$'\n",
    "for number in numbers1:\n",
    "    if re.match(pattern,number):\n",
    "        print(number)"
   ]
  },
  {
   "cell_type": "code",
   "execution_count": 101,
   "metadata": {},
   "outputs": [
    {
     "name": "stdout",
     "output_type": "stream",
     "text": [
      "salma123@gmail.com\n"
     ]
    }
   ],
   "source": [
    "emails = ['salma123@gmail.com']\n",
    "pattern='^[a-z]+[0-9]+[@](gmail.com)$'\n",
    "for email in emails:\n",
    "    if re.match(pattern,email):\n",
    "        print(email)"
   ]
  },
  {
   "cell_type": "code",
   "execution_count": 106,
   "metadata": {},
   "outputs": [
    {
     "name": "stdout",
     "output_type": "stream",
     "text": [
      "enter mail id salma123@gmail.com\n"
     ]
    }
   ],
   "source": [
    "email = input('enter mail id ')\n",
    "pattern='^[a-z]{1-15}\\d{0,10}[@](gmail.com)$'\n",
    "if re.match(pattern,email):\n",
    "    print(email)"
   ]
  },
  {
   "cell_type": "code",
   "execution_count": null,
   "metadata": {},
   "outputs": [],
   "source": [
    "email = input('enter mail id ')\n",
    "pattern='^[a-z]{1-15}\\d{0,10}[@](gmail\\com)$'\n",
    "if re.match(pattern,email):\n",
    "    print(email)"
   ]
  },
  {
   "cell_type": "markdown",
   "metadata": {},
   "source": [
    "###  OOP'S:\n",
    "- CLASS:blue print or model of a object\n",
    "* OBJECT:physical entity which is having behaviour and action\n",
    "* CONSTRUCTOR:special method which is used to create instance variables"
   ]
  },
  {
   "cell_type": "markdown",
   "metadata": {},
   "source": [
    "# create a class\n",
    "# class ClassName:\n",
    "     # variables\n",
    "     # methods"
   ]
  },
  {
   "cell_type": "code",
   "execution_count": 108,
   "metadata": {},
   "outputs": [
    {
     "name": "stdout",
     "output_type": "stream",
     "text": [
      "10\n"
     ]
    }
   ],
   "source": [
    "#create a class\n",
    "class Student:\n",
    "    x=10\n",
    "    print(Student.x)"
   ]
  },
  {
   "cell_type": "code",
   "execution_count": 111,
   "metadata": {},
   "outputs": [
    {
     "data": {
      "text/plain": [
       "10"
      ]
     },
     "execution_count": 111,
     "metadata": {},
     "output_type": "execute_result"
    }
   ],
   "source": [
    "#create an object\n",
    "# rv = ClassName()\n",
    "s=Student()\n",
    "s.x"
   ]
  },
  {
   "cell_type": "code",
   "execution_count": 117,
   "metadata": {},
   "outputs": [
    {
     "name": "stdout",
     "output_type": "stream",
     "text": [
      "10\n",
      "hello Salma\n"
     ]
    }
   ],
   "source": [
    "class Student:\n",
    "    x=10\n",
    "    def display(self,name):\n",
    "        print(\"hello {}\".format(name))\n",
    "s=Student()\n",
    "print(s.x)\n",
    "s.display(\"Salma\")"
   ]
  },
  {
   "cell_type": "code",
   "execution_count": 130,
   "metadata": {},
   "outputs": [
    {
     "name": "stdout",
     "output_type": "stream",
     "text": [
      "This is constructor...\n",
      "This is constructor...\n",
      "10\n",
      "20\n",
      "This is method...\n",
      "30\n"
     ]
    }
   ],
   "source": [
    "class Student:\n",
    "    x=10 #class variable or static\n",
    "    def __init__(self):\n",
    "        self.y=20 #instance variable\n",
    "        print(\"This is constructor...\")\n",
    "    def m1(self):\n",
    "        z=30 #local variable\n",
    "        print(\"This is method...\")\n",
    "        print(z)\n",
    "s=Student()\n",
    "s.__init__()\n",
    "print(s.x)\n",
    "print(s.y)\n",
    "s.m1()"
   ]
  },
  {
   "cell_type": "code",
   "execution_count": 137,
   "metadata": {},
   "outputs": [
    {
     "name": "stdout",
     "output_type": "stream",
     "text": [
      "This is constructor...\n",
      "This is method...\n",
      "my name is salma\n",
      "30\n"
     ]
    }
   ],
   "source": [
    "class Student:\n",
    "    x=10 #class variable or static\n",
    "    def __init__(self,name):\n",
    "        self.name=name\n",
    "        self.y=20 #instance variable\n",
    "        print(\"This is constructor...\")\n",
    "    def m1(self):\n",
    "        z=30 #local variable\n",
    "        print(\"This is method...\")\n",
    "        print(\"my name is {}\".format(self.name))\n",
    "        print(z)\n",
    "\n",
    "s=Student(\"salma\")\n",
    "s.m1()"
   ]
  }
 ],
 "metadata": {
  "kernelspec": {
   "display_name": "Python 3",
   "language": "python",
   "name": "python3"
  },
  "language_info": {
   "codemirror_mode": {
    "name": "ipython",
    "version": 3
   },
   "file_extension": ".py",
   "mimetype": "text/x-python",
   "name": "python",
   "nbconvert_exporter": "python",
   "pygments_lexer": "ipython3",
   "version": "3.6.5"
  }
 },
 "nbformat": 4,
 "nbformat_minor": 4
}
